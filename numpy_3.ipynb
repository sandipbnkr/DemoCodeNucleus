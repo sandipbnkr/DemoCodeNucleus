{
  "cells": [
    {
      "cell_type": "markdown",
      "metadata": {
        "id": "view-in-github",
        "colab_type": "text"
      },
      "source": [
        "<a href=\"https://colab.research.google.com/github/sandipbnkr/DemoCodeNucleus/blob/main/numpy_3.ipynb\" target=\"_parent\"><img src=\"https://colab.research.google.com/assets/colab-badge.svg\" alt=\"Open In Colab\"/></a>"
      ]
    },
    {
      "cell_type": "code",
      "execution_count": 2,
      "id": "a8b00324",
      "metadata": {
        "id": "a8b00324"
      },
      "outputs": [],
      "source": [
        "import numpy as np"
      ]
    },
    {
      "cell_type": "raw",
      "id": "b8d562ba",
      "metadata": {
        "id": "b8d562ba"
      },
      "source": [
        "- np.linspace\n",
        "- np.append\n",
        "- np.cumsum\n",
        "- np.cumprod\n",
        "- np.delete\n",
        "- np.insert\n",
        "- np.where"
      ]
    },
    {
      "cell_type": "markdown",
      "id": "ecc78de2",
      "metadata": {
        "id": "ecc78de2"
      },
      "source": [
        "#### np.linspace(): used to create a sequence of numbers with constant spacing or linear spacing between 2 numbers"
      ]
    },
    {
      "cell_type": "code",
      "execution_count": 3,
      "id": "bc181799",
      "metadata": {
        "colab": {
          "base_uri": "https://localhost:8080/"
        },
        "id": "bc181799",
        "outputId": "65d70e81-7568-4018-852a-17d25523e08f"
      },
      "outputs": [
        {
          "output_type": "execute_result",
          "data": {
            "text/plain": [
              "array([1.        , 1.02040816, 1.04081633, 1.06122449, 1.08163265,\n",
              "       1.10204082, 1.12244898, 1.14285714, 1.16326531, 1.18367347,\n",
              "       1.20408163, 1.2244898 , 1.24489796, 1.26530612, 1.28571429,\n",
              "       1.30612245, 1.32653061, 1.34693878, 1.36734694, 1.3877551 ,\n",
              "       1.40816327, 1.42857143, 1.44897959, 1.46938776, 1.48979592,\n",
              "       1.51020408, 1.53061224, 1.55102041, 1.57142857, 1.59183673,\n",
              "       1.6122449 , 1.63265306, 1.65306122, 1.67346939, 1.69387755,\n",
              "       1.71428571, 1.73469388, 1.75510204, 1.7755102 , 1.79591837,\n",
              "       1.81632653, 1.83673469, 1.85714286, 1.87755102, 1.89795918,\n",
              "       1.91836735, 1.93877551, 1.95918367, 1.97959184, 2.        ])"
            ]
          },
          "metadata": {},
          "execution_count": 3
        }
      ],
      "source": [
        "\"\"\"\n",
        "Signature:\n",
        "np.linspace(\n",
        "    start,\n",
        "    stop,\n",
        "    num=50,\n",
        "    endpoint=True,\n",
        "    retstep=False,\n",
        "    dtype=None,\n",
        "    axis=0,\n",
        ")\n",
        "Docstring:\n",
        "Return evenly spaced numbers over a specified interval.\n",
        "\n",
        "Returns `num` evenly spaced samples, calculated over the\n",
        "interval [`start`, `stop`].\n",
        "\"\"\"\n",
        "#default it returns 50 numbers\n",
        "np.linspace(1,2)"
      ]
    },
    {
      "cell_type": "code",
      "execution_count": null,
      "id": "cab88b3d",
      "metadata": {
        "colab": {
          "base_uri": "https://localhost:8080/"
        },
        "id": "cab88b3d",
        "outputId": "d9864036-a72c-4e70-eff1-3cd739ca5a0d"
      },
      "outputs": [
        {
          "output_type": "execute_result",
          "data": {
            "text/plain": [
              "-0.26530612"
            ]
          },
          "metadata": {},
          "execution_count": 3
        }
      ],
      "source": [
        "12.6122449 - 12.87755102"
      ]
    },
    {
      "cell_type": "code",
      "execution_count": null,
      "id": "248016d9",
      "metadata": {
        "colab": {
          "base_uri": "https://localhost:8080/"
        },
        "id": "248016d9",
        "outputId": "6b6b85f9-5daa-4bc5-8b96-7c3ac2ca3a7b"
      },
      "outputs": [
        {
          "output_type": "execute_result",
          "data": {
            "text/plain": [
              "-0.2653061300000008"
            ]
          },
          "metadata": {},
          "execution_count": 4
        }
      ],
      "source": [
        "14.20408163-  14.46938776"
      ]
    },
    {
      "cell_type": "code",
      "execution_count": null,
      "id": "31e41b37",
      "metadata": {
        "colab": {
          "base_uri": "https://localhost:8080/"
        },
        "id": "31e41b37",
        "outputId": "453c73d4-d25d-4800-8f35-44f977ca0278"
      },
      "outputs": [
        {
          "output_type": "execute_result",
          "data": {
            "text/plain": [
              "array([ 1.        ,  1.73684211,  2.47368421,  3.21052632,  3.94736842,\n",
              "        4.68421053,  5.42105263,  6.15789474,  6.89473684,  7.63157895,\n",
              "        8.36842105,  9.10526316,  9.84210526, 10.57894737, 11.31578947,\n",
              "       12.05263158, 12.78947368, 13.52631579, 14.26315789, 15.        ])"
            ]
          },
          "metadata": {},
          "execution_count": 5
        }
      ],
      "source": [
        "#if we want only 20 numbers betwen 1-15\n",
        "np.linspace(1,15,20)\n",
        "# stop is inclusive"
      ]
    },
    {
      "cell_type": "code",
      "execution_count": null,
      "id": "f81f8662",
      "metadata": {
        "colab": {
          "base_uri": "https://localhost:8080/"
        },
        "id": "f81f8662",
        "outputId": "1c22ec9c-52c5-495b-d157-e57baef023ef"
      },
      "outputs": [
        {
          "output_type": "execute_result",
          "data": {
            "text/plain": [
              "array([ 1. ,  1.7,  2.4,  3.1,  3.8,  4.5,  5.2,  5.9,  6.6,  7.3,  8. ,\n",
              "        8.7,  9.4, 10.1, 10.8, 11.5, 12.2, 12.9, 13.6, 14.3])"
            ]
          },
          "metadata": {},
          "execution_count": 6
        }
      ],
      "source": [
        "#if we set endpoint=False\n",
        "#then stop wont be a part of output\n",
        "np.linspace(1,15,20,endpoint=False)"
      ]
    },
    {
      "cell_type": "code",
      "execution_count": null,
      "id": "3654318a",
      "metadata": {
        "colab": {
          "base_uri": "https://localhost:8080/"
        },
        "id": "3654318a",
        "outputId": "ebb92529-75b0-44a1-9b08-b3cca7481dac"
      },
      "outputs": [
        {
          "output_type": "execute_result",
          "data": {
            "text/plain": [
              "(array([ 1. ,  1.7,  2.4,  3.1,  3.8,  4.5,  5.2,  5.9,  6.6,  7.3,  8. ,\n",
              "         8.7,  9.4, 10.1, 10.8, 11.5, 12.2, 12.9, 13.6, 14.3]),\n",
              " 0.7)"
            ]
          },
          "metadata": {},
          "execution_count": 7
        }
      ],
      "source": [
        "#to check difference btwn 2 values set retstep=True\n",
        "np.linspace(1,15,20,endpoint=False,retstep=True)"
      ]
    },
    {
      "cell_type": "markdown",
      "id": "19505e25",
      "metadata": {
        "id": "19505e25"
      },
      "source": [
        "## Generate sin wave using linspace"
      ]
    },
    {
      "cell_type": "code",
      "execution_count": null,
      "id": "9a72fb5d",
      "metadata": {
        "id": "9a72fb5d"
      },
      "outputs": [],
      "source": [
        "x = np.linspace(2,40,100)\n",
        "\n",
        "y = np.sin(x)"
      ]
    },
    {
      "cell_type": "code",
      "execution_count": null,
      "id": "ae63658f",
      "metadata": {
        "colab": {
          "base_uri": "https://localhost:8080/",
          "height": 447
        },
        "id": "ae63658f",
        "outputId": "aa4f32a2-0d64-4656-baf1-a27c16afff77"
      },
      "outputs": [
        {
          "output_type": "execute_result",
          "data": {
            "text/plain": [
              "[<matplotlib.lines.Line2D at 0x78dce7679ed0>]"
            ]
          },
          "metadata": {},
          "execution_count": 9
        },
        {
          "output_type": "display_data",
          "data": {
            "text/plain": [
              "<Figure size 640x480 with 1 Axes>"
            ],
            "image/png": "[encoded data removed]"
          },
          "metadata": {}
        }
      ],
      "source": [
        "# lineplot\n",
        "import matplotlib.pyplot as plt\n",
        "\n",
        "plt.plot(x,y,'--r')"
      ]
    },
    {
      "cell_type": "markdown",
      "id": "7281056c",
      "metadata": {
        "id": "7281056c"
      },
      "source": [
        "### np.append():to append elements at the end\n"
      ]
    },
    {
      "cell_type": "code",
      "execution_count": 5,
      "id": "d8b49389",
      "metadata": {
        "colab": {
          "base_uri": "https://localhost:8080/"
        },
        "id": "d8b49389",
        "outputId": "6affbcb4-f7a7-4c9a-fe0f-498639a4b830"
      },
      "outputs": [
        {
          "output_type": "execute_result",
          "data": {
            "text/plain": [
              "array([10, 20, 30, 40])"
            ]
          },
          "metadata": {},
          "execution_count": 5
        }
      ],
      "source": [
        "a = np.array([10,20,30,40])\n",
        "a"
      ]
    },
    {
      "cell_type": "code",
      "execution_count": null,
      "id": "94eb6c4d",
      "metadata": {
        "colab": {
          "base_uri": "https://localhost:8080/"
        },
        "id": "94eb6c4d",
        "outputId": "f424428f-1723-4839-cf20-04eee2d3b6f8"
      },
      "outputs": [
        {
          "output_type": "execute_result",
          "data": {
            "text/plain": [
              "array([ 10,  20,  30,  40, 400])"
            ]
          },
          "metadata": {},
          "execution_count": 11
        }
      ],
      "source": [
        "\"\"\"\n",
        "Signature: np.append(arr, values, axis=None)\n",
        "Docstring:\n",
        "Append values to the end of an array. (temp.)\n",
        "\"\"\"\n",
        "np.append(a,400)"
      ]
    },
    {
      "cell_type": "code",
      "execution_count": null,
      "id": "80da0e21",
      "metadata": {
        "colab": {
          "base_uri": "https://localhost:8080/"
        },
        "id": "80da0e21",
        "outputId": "16c77fe4-7f1c-4cc6-ec3c-146ae04b0520"
      },
      "outputs": [
        {
          "output_type": "execute_result",
          "data": {
            "text/plain": [
              "array([10, 20, 30, 40])"
            ]
          },
          "metadata": {},
          "execution_count": 12
        }
      ],
      "source": [
        "a"
      ]
    },
    {
      "cell_type": "code",
      "execution_count": null,
      "id": "ef850138",
      "metadata": {
        "scrolled": true,
        "colab": {
          "base_uri": "https://localhost:8080/"
        },
        "id": "ef850138",
        "outputId": "7d631e30-4ae6-43c2-e62a-db32b853f82a"
      },
      "outputs": [
        {
          "output_type": "execute_result",
          "data": {
            "text/plain": [
              "array([10, 20, 30, 40,  3,  4,  5])"
            ]
          },
          "metadata": {},
          "execution_count": 13
        }
      ],
      "source": [
        "# append list\n",
        "np.append(a,[3,4,5])"
      ]
    },
    {
      "cell_type": "code",
      "execution_count": null,
      "id": "3db60958",
      "metadata": {
        "colab": {
          "base_uri": "https://localhost:8080/"
        },
        "id": "3db60958",
        "outputId": "4f75c1a3-8b2d-4faa-bfca-ee7b7bd54ddf"
      },
      "outputs": [
        {
          "output_type": "execute_result",
          "data": {
            "text/plain": [
              "array([10, 20, 30, 40,  3,  4,  5,  6,  7])"
            ]
          },
          "metadata": {},
          "execution_count": 14
        }
      ],
      "source": [
        "np.append(a,range(3,8))"
      ]
    },
    {
      "cell_type": "markdown",
      "id": "0fd462f6",
      "metadata": {
        "id": "0fd462f6"
      },
      "source": [
        "## np.cumsum: cummulative sum"
      ]
    },
    {
      "cell_type": "code",
      "execution_count": 6,
      "id": "312fa795",
      "metadata": {
        "colab": {
          "base_uri": "https://localhost:8080/"
        },
        "id": "312fa795",
        "outputId": "f3b1d292-7c27-4852-e59d-e891508a9e11"
      },
      "outputs": [
        {
          "output_type": "execute_result",
          "data": {
            "text/plain": [
              "array([10, 20, 30, 40])"
            ]
          },
          "metadata": {},
          "execution_count": 6
        }
      ],
      "source": [
        "a"
      ]
    },
    {
      "cell_type": "code",
      "execution_count": null,
      "id": "2ea8cb79",
      "metadata": {
        "colab": {
          "base_uri": "https://localhost:8080/"
        },
        "id": "2ea8cb79",
        "outputId": "a0372643-f916-4b35-a7b7-8ada5c2e29c7"
      },
      "outputs": [
        {
          "output_type": "execute_result",
          "data": {
            "text/plain": [
              "array([ 10,  30,  60, 100])"
            ]
          },
          "metadata": {},
          "execution_count": 16
        }
      ],
      "source": [
        "#Ex.[1,2,3,5]=1+2=3+3=6+5=11\n",
        "np.cumsum(a)"
      ]
    },
    {
      "cell_type": "code",
      "execution_count": null,
      "id": "3bdfe865",
      "metadata": {
        "id": "3bdfe865"
      },
      "outputs": [],
      "source": [
        "team1 = [2,10,5]"
      ]
    },
    {
      "cell_type": "code",
      "execution_count": null,
      "id": "e83352fc",
      "metadata": {
        "colab": {
          "base_uri": "https://localhost:8080/"
        },
        "id": "e83352fc",
        "outputId": "eeadb2ae-258b-48d6-c98c-b2f03899f858"
      },
      "outputs": [
        {
          "output_type": "execute_result",
          "data": {
            "text/plain": [
              "array([ 2, 12, 17])"
            ]
          },
          "metadata": {},
          "execution_count": 18
        }
      ],
      "source": [
        "np.cumsum(team1)"
      ]
    },
    {
      "cell_type": "raw",
      "id": "b199cb49",
      "metadata": {
        "id": "b199cb49"
      },
      "source": [
        "# if we want rowise cumsummation\n",
        "\n",
        "# or columnwise cumsum then take the help of axis parameter"
      ]
    },
    {
      "cell_type": "code",
      "execution_count": 18,
      "id": "8f6bab4c",
      "metadata": {
        "id": "8f6bab4c"
      },
      "outputs": [],
      "source": [
        "b = np.arange(24).reshape(4,6)\n",
        "\n"
      ]
    },
    {
      "cell_type": "code",
      "execution_count": null,
      "id": "38af8756",
      "metadata": {
        "colab": {
          "base_uri": "https://localhost:8080/"
        },
        "id": "38af8756",
        "outputId": "cbb4acb4-dbdb-4282-8488-eda426f8e2f0"
      },
      "outputs": [
        {
          "output_type": "execute_result",
          "data": {
            "text/plain": [
              "array([[ 0,  1,  2,  3,  4,  5],\n",
              "       [ 6,  8, 10, 12, 14, 16],\n",
              "       [18, 21, 24, 27, 30, 33],\n",
              "       [36, 40, 44, 48, 52, 56]])"
            ]
          },
          "metadata": {},
          "execution_count": 22
        }
      ],
      "source": [
        "np.cumsum(b,axis=0) #columnwise"
      ]
    },
    {
      "cell_type": "markdown",
      "id": "ff13a384",
      "metadata": {
        "id": "ff13a384"
      },
      "source": [
        "### np.cumprod: cummulative product"
      ]
    },
    {
      "cell_type": "code",
      "execution_count": 24,
      "id": "18d165fb",
      "metadata": {
        "id": "18d165fb",
        "outputId": "374a5fcc-5442-4d02-8367-7c7eacdbd13c",
        "colab": {
          "base_uri": "https://localhost:8080/"
        }
      },
      "outputs": [
        {
          "output_type": "execute_result",
          "data": {
            "text/plain": [
              "array([[       0,        0,        0,        0,        0,        0],\n",
              "       [       6,       42,      336,     3024,    30240,   332640],\n",
              "       [      12,      156,     2184,    32760,   524160,  8910720],\n",
              "       [      18,      342,     6840,   143640,  3160080, 72681840]])"
            ]
          },
          "metadata": {},
          "execution_count": 24
        }
      ],
      "source": [
        "# assignment: for all values,for columns,for rows\n",
        "np.cumprod(b,axis=1)\n"
      ]
    },
    {
      "cell_type": "markdown",
      "id": "f464bd53",
      "metadata": {
        "id": "f464bd53"
      },
      "source": [
        "## np.delete: to delete an element from an array\n"
      ]
    },
    {
      "cell_type": "code",
      "execution_count": null,
      "id": "cc4dd693",
      "metadata": {
        "colab": {
          "base_uri": "https://localhost:8080/"
        },
        "id": "cc4dd693",
        "outputId": "8f3eb372-7bba-4129-8aa6-668100f31a62"
      },
      "outputs": [
        {
          "output_type": "execute_result",
          "data": {
            "text/plain": [
              "array([10, 20, 30, 40])"
            ]
          },
          "metadata": {},
          "execution_count": 26
        }
      ],
      "source": [
        "\"\"\"\n",
        "Signature: np.delete(arr, obj, axis=None)\n",
        "arr: means an array from which we want to delete elements\n",
        "obj: index of element to delete\n",
        "Docstring:\n",
        "Return a new array with sub-arrays along an axis deleted. For a one\n",
        "dimensional array, this returns those entries not returned by\n",
        "\"\"\"\n",
        "a"
      ]
    },
    {
      "cell_type": "code",
      "execution_count": null,
      "id": "8e546960",
      "metadata": {
        "colab": {
          "base_uri": "https://localhost:8080/"
        },
        "id": "8e546960",
        "outputId": "0309e401-d5ae-44db-a0db-f2bae5dfd086"
      },
      "outputs": [
        {
          "output_type": "execute_result",
          "data": {
            "text/plain": [
              "array([10, 20, 40])"
            ]
          },
          "metadata": {},
          "execution_count": 24
        }
      ],
      "source": [
        "np.delete(a,2)"
      ]
    },
    {
      "cell_type": "code",
      "execution_count": null,
      "id": "b82eb68c",
      "metadata": {
        "colab": {
          "base_uri": "https://localhost:8080/"
        },
        "id": "b82eb68c",
        "outputId": "db83d7a5-7a5e-4edf-a58e-4047d7cc7830"
      },
      "outputs": [
        {
          "output_type": "execute_result",
          "data": {
            "text/plain": [
              "array([10, 20, 30])"
            ]
          },
          "metadata": {},
          "execution_count": 25
        }
      ],
      "source": [
        "np.delete(a,-1)"
      ]
    },
    {
      "cell_type": "code",
      "execution_count": null,
      "id": "9fce69e1",
      "metadata": {
        "colab": {
          "base_uri": "https://localhost:8080/"
        },
        "id": "9fce69e1",
        "outputId": "4a42dc05-84c5-4015-89f0-dc7647458012"
      },
      "outputs": [
        {
          "output_type": "execute_result",
          "data": {
            "text/plain": [
              "array([[ 0,  1,  2,  3,  4,  5],\n",
              "       [ 6,  7,  8,  9, 10, 11],\n",
              "       [12, 13, 14, 15, 16, 17],\n",
              "       [18, 19, 20, 21, 22, 23]])"
            ]
          },
          "metadata": {},
          "execution_count": 27
        }
      ],
      "source": [
        "b"
      ]
    },
    {
      "cell_type": "code",
      "execution_count": null,
      "id": "88270ffd",
      "metadata": {
        "id": "88270ffd"
      },
      "outputs": [],
      "source": [
        "#operations gives u an output but its temp. output not permanent"
      ]
    },
    {
      "cell_type": "code",
      "execution_count": null,
      "id": "2994bb05",
      "metadata": {
        "colab": {
          "base_uri": "https://localhost:8080/"
        },
        "id": "2994bb05",
        "outputId": "92487e9c-998f-495e-b951-be214fee0420"
      },
      "outputs": [
        {
          "output_type": "execute_result",
          "data": {
            "text/plain": [
              "array([ 0,  1,  2,  4,  5,  6,  7,  8,  9, 10, 11, 12, 13, 14, 15, 16, 17,\n",
              "       18, 19, 20, 21, 22, 23])"
            ]
          },
          "metadata": {},
          "execution_count": 28
        }
      ],
      "source": [
        "np.delete(b,3) # in genral case it will convert array into 1D and will delete element at that index"
      ]
    },
    {
      "cell_type": "code",
      "source": [
        "b"
      ],
      "metadata": {
        "colab": {
          "base_uri": "https://localhost:8080/"
        },
        "id": "S356Vfem1Mvy",
        "outputId": "a5cb86fe-c5e6-450e-8893-66bf80752d76"
      },
      "id": "S356Vfem1Mvy",
      "execution_count": null,
      "outputs": [
        {
          "output_type": "execute_result",
          "data": {
            "text/plain": [
              "array([[ 0,  1,  2,  3,  4,  5],\n",
              "       [ 6,  7,  8,  9, 10, 11],\n",
              "       [12, 13, 14, 15, 16, 17],\n",
              "       [18, 19, 20, 21, 22, 23]])"
            ]
          },
          "metadata": {},
          "execution_count": 29
        }
      ]
    },
    {
      "cell_type": "code",
      "execution_count": null,
      "id": "fbcdfb4b",
      "metadata": {
        "scrolled": true,
        "colab": {
          "base_uri": "https://localhost:8080/"
        },
        "id": "fbcdfb4b",
        "outputId": "fa768d0f-6429-460c-a8bf-4744396ed193"
      },
      "outputs": [
        {
          "output_type": "execute_result",
          "data": {
            "text/plain": [
              "array([[ 0,  1,  2,  3,  4,  5],\n",
              "       [ 6,  7,  8,  9, 10, 11],\n",
              "       [18, 19, 20, 21, 22, 23]])"
            ]
          },
          "metadata": {},
          "execution_count": 75
        }
      ],
      "source": [
        "#remove a row: row starting with 12\n",
        "np.delete(b,2,axis=0)"
      ]
    },
    {
      "cell_type": "code",
      "execution_count": null,
      "id": "8031d6e7",
      "metadata": {
        "colab": {
          "base_uri": "https://localhost:8080/"
        },
        "id": "8031d6e7",
        "outputId": "f1dba3f7-d74a-4b6a-f026-3c49405e0aa5"
      },
      "outputs": [
        {
          "output_type": "execute_result",
          "data": {
            "text/plain": [
              "array([[ 0,  1,  2,  3,  4],\n",
              "       [ 6,  7,  8,  9, 10],\n",
              "       [12, 13, 14, 15, 16],\n",
              "       [18, 19, 20, 21, 22]])"
            ]
          },
          "metadata": {},
          "execution_count": 76
        }
      ],
      "source": [
        "#remove a last column\n",
        "np.delete(b,-1,axis=1)"
      ]
    },
    {
      "cell_type": "markdown",
      "id": "c85a263a",
      "metadata": {
        "id": "c85a263a"
      },
      "source": [
        "## np.insert: too add element in between"
      ]
    },
    {
      "cell_type": "code",
      "execution_count": null,
      "id": "3418b8d9",
      "metadata": {
        "colab": {
          "base_uri": "https://localhost:8080/"
        },
        "id": "3418b8d9",
        "outputId": "a68bae78-377a-4a18-de5c-8612b1205690"
      },
      "outputs": [
        {
          "output_type": "execute_result",
          "data": {
            "text/plain": [
              "array([10, 20, 30, 40])"
            ]
          },
          "metadata": {},
          "execution_count": 32
        }
      ],
      "source": [
        "\"\"\"\n",
        "Signature: np.insert(arr, obj, values, axis=None)\n",
        "Docstring:\n",
        "Insert values along the given axis before the given indices.\n",
        "\"\"\"\n",
        "#add 300 between 20 and 30\n",
        "a"
      ]
    },
    {
      "cell_type": "code",
      "execution_count": null,
      "id": "e6128368",
      "metadata": {
        "colab": {
          "base_uri": "https://localhost:8080/"
        },
        "id": "e6128368",
        "outputId": "7201d745-d1e3-4e1d-8871-0ffc02178f79"
      },
      "outputs": [
        {
          "output_type": "execute_result",
          "data": {
            "text/plain": [
              "array([ 10,  20, 300,  30,  40])"
            ]
          },
          "metadata": {},
          "execution_count": 33
        }
      ],
      "source": [
        "np.insert(a,2,300)"
      ]
    },
    {
      "cell_type": "code",
      "source": [
        "# insert 100 after 40\n",
        "np.insert(a,4,100)"
      ],
      "metadata": {
        "colab": {
          "base_uri": "https://localhost:8080/"
        },
        "id": "ukY2fqVR2g-F",
        "outputId": "cd83aa93-f977-4e68-b685-3ce2069a6739"
      },
      "id": "ukY2fqVR2g-F",
      "execution_count": null,
      "outputs": [
        {
          "output_type": "execute_result",
          "data": {
            "text/plain": [
              "array([ 10,  20,  30,  40, 100])"
            ]
          },
          "metadata": {},
          "execution_count": 36
        }
      ]
    },
    {
      "cell_type": "code",
      "source": [
        "np.append(a,100)"
      ],
      "metadata": {
        "colab": {
          "base_uri": "https://localhost:8080/"
        },
        "id": "OmfsJpPW2-kv",
        "outputId": "069764c2-efe0-4444-be27-d34604cb176a"
      },
      "id": "OmfsJpPW2-kv",
      "execution_count": null,
      "outputs": [
        {
          "output_type": "execute_result",
          "data": {
            "text/plain": [
              "array([ 10,  20,  30,  40, 100])"
            ]
          },
          "metadata": {},
          "execution_count": 37
        }
      ]
    },
    {
      "cell_type": "code",
      "source": [
        "#insert 900 before 10\n",
        "np.insert(a,0,900)"
      ],
      "metadata": {
        "colab": {
          "base_uri": "https://localhost:8080/"
        },
        "id": "DNWwRb-w3H5V",
        "outputId": "a0e20937-d409-41bc-8ce4-5f12f2828563"
      },
      "id": "DNWwRb-w3H5V",
      "execution_count": null,
      "outputs": [
        {
          "output_type": "execute_result",
          "data": {
            "text/plain": [
              "array([900,  10,  20,  30,  40])"
            ]
          },
          "metadata": {},
          "execution_count": 39
        }
      ]
    },
    {
      "cell_type": "code",
      "execution_count": null,
      "id": "fb113f57",
      "metadata": {
        "colab": {
          "base_uri": "https://localhost:8080/"
        },
        "id": "fb113f57",
        "outputId": "7cc5fc70-bf05-471a-ee1e-d1a54f5c464c"
      },
      "outputs": [
        {
          "output_type": "execute_result",
          "data": {
            "text/plain": [
              "array([[ 0,  1,  2,  3,  4,  5],\n",
              "       [ 6,  7,  8,  9, 10, 11],\n",
              "       [12, 13, 14, 15, 16, 17],\n",
              "       [18, 19, 20, 21, 22, 23]])"
            ]
          },
          "metadata": {},
          "execution_count": 40
        }
      ],
      "source": [
        "#2D\n",
        "b"
      ]
    },
    {
      "cell_type": "code",
      "execution_count": null,
      "id": "3eabbffd",
      "metadata": {
        "colab": {
          "base_uri": "https://localhost:8080/"
        },
        "id": "3eabbffd",
        "outputId": "5dfc4dc9-8d36-4471-f6df-73efff82c7ea"
      },
      "outputs": [
        {
          "output_type": "execute_result",
          "data": {
            "text/plain": [
              "array([  0,   1,   2, 100,   3,   4,   5,   6,   7,   8,   9,  10,  11,\n",
              "        12,  13,  14,  15,  16,  17,  18,  19,  20,  21,  22,  23])"
            ]
          },
          "metadata": {},
          "execution_count": 41
        }
      ],
      "source": [
        "#insert new data before 2nd column\n",
        "np.insert(b,3,100)"
      ]
    },
    {
      "cell_type": "code",
      "source": [
        "b"
      ],
      "metadata": {
        "colab": {
          "base_uri": "https://localhost:8080/"
        },
        "id": "xkLb36Gv4F1P",
        "outputId": "9cc61d3b-d60d-40a2-b5dd-f3c35df29235"
      },
      "id": "xkLb36Gv4F1P",
      "execution_count": null,
      "outputs": [
        {
          "output_type": "execute_result",
          "data": {
            "text/plain": [
              "array([[ 0,  1,  2,  3,  4,  5],\n",
              "       [ 6,  7,  8,  9, 10, 11],\n",
              "       [12, 13, 14, 15, 16, 17],\n",
              "       [18, 19, 20, 21, 22, 23]])"
            ]
          },
          "metadata": {},
          "execution_count": 42
        }
      ]
    },
    {
      "cell_type": "code",
      "execution_count": null,
      "id": "1751daa7",
      "metadata": {
        "scrolled": true,
        "colab": {
          "base_uri": "https://localhost:8080/"
        },
        "id": "1751daa7",
        "outputId": "f5d86e25-5758-4d6a-dc7d-1086a4859b21"
      },
      "outputs": [
        {
          "output_type": "execute_result",
          "data": {
            "text/plain": [
              "array([[ 0,  1,  1,  2,  3,  4,  5],\n",
              "       [ 6,  1,  7,  8,  9, 10, 11],\n",
              "       [12,  1, 13, 14, 15, 16, 17],\n",
              "       [18,  1, 19, 20, 21, 22, 23]])"
            ]
          },
          "metadata": {},
          "execution_count": 45
        }
      ],
      "source": [
        "# insert all 1's in column\n",
        "np.insert(b,1,[1,1,1,1],axis=1)"
      ]
    },
    {
      "cell_type": "code",
      "execution_count": null,
      "id": "da44231f",
      "metadata": {
        "colab": {
          "base_uri": "https://localhost:8080/"
        },
        "id": "da44231f",
        "outputId": "1151fc2a-90d0-4687-efd7-034140c38465"
      },
      "outputs": [
        {
          "output_type": "execute_result",
          "data": {
            "text/plain": [
              "array([[ 0,  1,  2,  3,  4,  5],\n",
              "       [ 6,  7,  8,  9, 10, 11],\n",
              "       [ 6,  6,  6,  6,  6,  6],\n",
              "       [12, 13, 14, 15, 16, 17],\n",
              "       [18, 19, 20, 21, 22, 23]])"
            ]
          },
          "metadata": {},
          "execution_count": 46
        }
      ],
      "source": [
        "np.insert(b,2,[6,6,6,6,6,6],axis=0)"
      ]
    },
    {
      "cell_type": "code",
      "execution_count": 27,
      "id": "53b3156c",
      "metadata": {
        "id": "53b3156c",
        "outputId": "62198697-09fe-4040-a500-feb594aefc32",
        "colab": {
          "base_uri": "https://localhost:8080/"
        }
      },
      "outputs": [
        {
          "output_type": "execute_result",
          "data": {
            "text/plain": [
              "array([[  0, 666,   1,   2,   3,   4,   5],\n",
              "       [  6, 666,   7,   8,   9,  10,  11],\n",
              "       [ 12, 666,  13,  14,  15,  16,  17],\n",
              "       [ 18, 666,  19,  20,  21,  22,  23]])"
            ]
          },
          "metadata": {},
          "execution_count": 27
        }
      ],
      "source": [
        "#insert a new data in each column and requiremnt is to add 500 everywhere\n",
        "np.insert(b,1,[666,666,666,666],axis=1)\n"
      ]
    },
    {
      "cell_type": "markdown",
      "id": "5de544ad",
      "metadata": {
        "id": "5de544ad"
      },
      "source": [
        "## np.where: conidition based conversion we can carry out"
      ]
    },
    {
      "cell_type": "code",
      "execution_count": null,
      "id": "6c33dca4",
      "metadata": {
        "colab": {
          "base_uri": "https://localhost:8080/"
        },
        "id": "6c33dca4",
        "outputId": "7f3e810f-e589-4930-ca46-626fa7a59eac"
      },
      "outputs": [
        {
          "output_type": "execute_result",
          "data": {
            "text/plain": [
              "array([[ 0,  1,  2,  3,  4,  5],\n",
              "       [ 6,  7,  8,  9, 10, 11],\n",
              "       [12, 13, 14, 15, 16, 17],\n",
              "       [18, 19, 20, 21, 22, 23]])"
            ]
          },
          "metadata": {},
          "execution_count": 47
        }
      ],
      "source": [
        "\"\"\"\n",
        "Docstring:\n",
        "np.where(condition, [x, y])\n",
        "\n",
        "Return elements chosen from `x` or `y` depending on `condition`.\n",
        "\n",
        "if condition is True return x else return y\n",
        "\"\"\"\n",
        "b"
      ]
    },
    {
      "cell_type": "code",
      "source": [
        "# return 0 if value<12\n",
        "np.where(b<12,0,b)"
      ],
      "metadata": {
        "colab": {
          "base_uri": "https://localhost:8080/"
        },
        "id": "ZooK-Ubz5M_v",
        "outputId": "10f4d9e5-19d8-4288-8b0f-a40a822d0158"
      },
      "id": "ZooK-Ubz5M_v",
      "execution_count": null,
      "outputs": [
        {
          "output_type": "execute_result",
          "data": {
            "text/plain": [
              "array([[ 0,  0,  0,  0,  0,  0],\n",
              "       [ 0,  0,  0,  0,  0,  0],\n",
              "       [12, 13, 14, 15, 16, 17],\n",
              "       [18, 19, 20, 21, 22, 23]])"
            ]
          },
          "metadata": {},
          "execution_count": 50
        }
      ]
    },
    {
      "cell_type": "code",
      "source": [
        "b"
      ],
      "metadata": {
        "colab": {
          "base_uri": "https://localhost:8080/"
        },
        "id": "ov2dV_1X6C9f",
        "outputId": "d73589be-3431-4c1d-c554-425bab95cb72"
      },
      "id": "ov2dV_1X6C9f",
      "execution_count": null,
      "outputs": [
        {
          "output_type": "execute_result",
          "data": {
            "text/plain": [
              "array([[ 0,  1,  2,  3,  4,  5],\n",
              "       [ 6,  7,  8,  9, 10, 11],\n",
              "       [12, 13, 14, 15, 16, 17],\n",
              "       [18, 19, 20, 21, 22, 23]])"
            ]
          },
          "metadata": {},
          "execution_count": 54
        }
      ]
    },
    {
      "cell_type": "code",
      "execution_count": null,
      "id": "680298f4",
      "metadata": {
        "colab": {
          "base_uri": "https://localhost:8080/"
        },
        "id": "680298f4",
        "outputId": "5c02f585-21a3-4562-be87-27de309023e9"
      },
      "outputs": [
        {
          "output_type": "execute_result",
          "data": {
            "text/plain": [
              "array([['+ve', '+ve', '+ve', '+ve', '+ve', '+ve'],\n",
              "       ['+ve', '+ve', '+ve', '+ve', '+ve', '+ve'],\n",
              "       ['-ve', '-ve', '-ve', '-ve', '-ve', '-ve'],\n",
              "       ['-ve', '-ve', '-ve', '-ve', '-ve', '-ve']], dtype='<U3')"
            ]
          },
          "metadata": {},
          "execution_count": 53
        }
      ],
      "source": [
        "#value<12 +ve and remaining -ve\n",
        "np.where(b<12,'+ve','-ve')"
      ]
    },
    {
      "cell_type": "code",
      "execution_count": null,
      "id": "f03b7c49",
      "metadata": {
        "id": "f03b7c49"
      },
      "outputs": [],
      "source": [
        "np.where(b>19,b,-b)"
      ]
    },
    {
      "cell_type": "code",
      "execution_count": null,
      "id": "6852657a",
      "metadata": {
        "id": "6852657a"
      },
      "outputs": [],
      "source": [
        "gen = ['male','female','male','female']\n",
        "gen = np.array(gen)"
      ]
    },
    {
      "cell_type": "code",
      "execution_count": null,
      "id": "6863a67b",
      "metadata": {
        "colab": {
          "base_uri": "https://localhost:8080/"
        },
        "id": "6863a67b",
        "outputId": "46d6e2ff-d948-42bc-f81a-27f247cd2806"
      },
      "outputs": [
        {
          "output_type": "execute_result",
          "data": {
            "text/plain": [
              "array(['male', 'female', 'male', 'female'], dtype='<U6')"
            ]
          },
          "metadata": {},
          "execution_count": 56
        }
      ],
      "source": [
        "gen"
      ]
    },
    {
      "cell_type": "code",
      "execution_count": null,
      "id": "1c4732b9",
      "metadata": {
        "colab": {
          "base_uri": "https://localhost:8080/"
        },
        "id": "1c4732b9",
        "outputId": "d78c3d5e-ed27-4039-b157-3c4c76ee8434"
      },
      "outputs": [
        {
          "output_type": "execute_result",
          "data": {
            "text/plain": [
              "array([0, 1, 0, 1])"
            ]
          },
          "metadata": {},
          "execution_count": 57
        }
      ],
      "source": [
        "np.where(gen=='male',0,1)"
      ]
    },
    {
      "cell_type": "code",
      "source": [
        "import seaborn as sns\n",
        "t = sns.load_dataset('titanic')\n",
        "np.where(t.sex=='male',0,1)"
      ],
      "metadata": {
        "colab": {
          "base_uri": "https://localhost:8080/"
        },
        "id": "X2mk3Zx06l82",
        "outputId": "666b7e5f-6ab6-4e2f-d06e-5555a3dbadda"
      },
      "id": "X2mk3Zx06l82",
      "execution_count": null,
      "outputs": [
        {
          "output_type": "execute_result",
          "data": {
            "text/plain": [
              "array([0, 1, 1, 1, 0, 0, 0, 0, 1, 1, 1, 1, 0, 0, 1, 1, 0, 0, 1, 1, 0, 0,\n",
              "       1, 0, 1, 1, 0, 0, 1, 0, 0, 1, 1, 0, 0, 0, 0, 0, 1, 1, 1, 1, 0, 1,\n",
              "       1, 0, 0, 1, 0, 1, 0, 0, 1, 1, 0, 0, 1, 0, 1, 0, 0, 1, 0, 0, 0, 0,\n",
              "       1, 0, 1, 0, 0, 1, 0, 0, 0, 0, 0, 0, 0, 1, 0, 0, 1, 0, 1, 1, 0, 0,\n",
              "       1, 0, 0, 0, 0, 0, 0, 0, 0, 0, 1, 0, 1, 0, 0, 0, 0, 0, 1, 0, 0, 1,\n",
              "       0, 1, 0, 1, 1, 0, 0, 0, 0, 1, 0, 0, 0, 1, 0, 0, 0, 0, 1, 0, 0, 0,\n",
              "       1, 1, 0, 0, 1, 0, 0, 0, 1, 1, 1, 0, 0, 0, 0, 1, 0, 0, 0, 1, 0, 0,\n",
              "       0, 0, 1, 0, 0, 0, 0, 1, 0, 0, 0, 0, 1, 1, 0, 0, 0, 0, 1, 0, 0, 0,\n",
              "       0, 1, 0, 0, 1, 0, 0, 0, 1, 0, 1, 0, 0, 0, 1, 0, 1, 0, 1, 1, 0, 0,\n",
              "       1, 1, 0, 0, 0, 0, 0, 1, 0, 0, 1, 0, 0, 1, 0, 0, 0, 1, 1, 0, 1, 0,\n",
              "       0, 0, 0, 0, 0, 0, 0, 0, 0, 1, 1, 0, 0, 1, 0, 1, 0, 1, 0, 0, 1, 1,\n",
              "       0, 0, 0, 0, 1, 1, 0, 0, 0, 1, 0, 0, 1, 1, 1, 1, 1, 1, 0, 0, 0, 0,\n",
              "       1, 0, 0, 0, 1, 1, 0, 0, 1, 0, 1, 1, 1, 0, 0, 1, 0, 0, 0, 0, 0, 0,\n",
              "       0, 0, 0, 1, 1, 1, 0, 1, 0, 0, 0, 1, 0, 1, 1, 0, 0, 1, 0, 0, 1, 1,\n",
              "       0, 1, 1, 1, 1, 0, 0, 1, 1, 0, 1, 1, 0, 0, 1, 1, 0, 1, 0, 1, 1, 1,\n",
              "       1, 0, 0, 0, 1, 0, 0, 1, 0, 0, 0, 1, 0, 0, 0, 1, 1, 1, 0, 0, 0, 0,\n",
              "       0, 0, 0, 0, 1, 1, 1, 1, 0, 0, 1, 0, 0, 0, 1, 1, 1, 1, 0, 0, 0, 0,\n",
              "       1, 1, 1, 0, 0, 0, 1, 1, 0, 1, 0, 0, 0, 1, 0, 1, 0, 0, 0, 1, 1, 0,\n",
              "       1, 0, 0, 1, 0, 0, 1, 0, 1, 0, 0, 0, 0, 1, 0, 0, 1, 0, 0, 1, 1, 1,\n",
              "       0, 1, 0, 0, 0, 1, 0, 0, 1, 1, 0, 0, 0, 1, 1, 0, 0, 1, 1, 1, 0, 0,\n",
              "       1, 0, 0, 1, 0, 0, 1, 0, 1, 0, 0, 0, 0, 0, 0, 0, 0, 1, 1, 0, 0, 0,\n",
              "       0, 0, 0, 0, 0, 0, 0, 1, 0, 0, 1, 1, 1, 0, 0, 0, 0, 1, 0, 0, 0, 1,\n",
              "       0, 1, 1, 0, 0, 0, 0, 0, 0, 0, 0, 0, 1, 0, 1, 0, 0, 1, 1, 1, 1, 0,\n",
              "       1, 0, 0, 0, 0, 0, 0, 1, 0, 0, 1, 0, 1, 0, 1, 0, 0, 1, 0, 0, 1, 0,\n",
              "       0, 0, 1, 0, 0, 1, 1, 1, 0, 1, 0, 1, 1, 1, 1, 0, 0, 0, 1, 0, 0, 0,\n",
              "       0, 0, 0, 0, 1, 0, 1, 0, 1, 1, 0, 0, 0, 0, 1, 0, 0, 1, 0, 0, 0, 1,\n",
              "       0, 1, 0, 0, 1, 1, 1, 0, 1, 1, 0, 0, 0, 1, 0, 0, 0, 0, 0, 1, 0, 1,\n",
              "       0, 0, 1, 0, 0, 0, 1, 0, 0, 0, 0, 0, 0, 0, 1, 1, 1, 0, 1, 0, 0, 1,\n",
              "       0, 1, 1, 0, 0, 0, 0, 0, 0, 0, 0, 1, 0, 0, 0, 0, 0, 0, 1, 1, 0, 0,\n",
              "       1, 0, 0, 1, 1, 0, 1, 0, 0, 0, 0, 1, 0, 1, 0, 1, 1, 0, 0, 1, 0, 0,\n",
              "       0, 0, 0, 0, 0, 0, 0, 0, 0, 1, 1, 0, 0, 0, 0, 0, 0, 1, 1, 0, 1, 0,\n",
              "       0, 0, 0, 0, 0, 0, 0, 1, 0, 1, 0, 0, 0, 0, 0, 1, 0, 0, 1, 0, 1, 0,\n",
              "       0, 0, 1, 0, 1, 0, 1, 0, 0, 0, 0, 0, 1, 1, 0, 0, 1, 0, 0, 0, 0, 0,\n",
              "       1, 1, 0, 1, 1, 0, 0, 0, 0, 0, 1, 0, 0, 0, 0, 0, 1, 0, 0, 0, 0, 1,\n",
              "       0, 0, 1, 0, 0, 0, 1, 0, 0, 0, 0, 1, 0, 0, 0, 1, 0, 1, 0, 1, 0, 0,\n",
              "       0, 0, 1, 0, 1, 0, 0, 1, 0, 1, 1, 1, 0, 0, 0, 0, 1, 0, 0, 0, 0, 0,\n",
              "       1, 0, 0, 0, 1, 1, 0, 1, 0, 1, 0, 0, 0, 0, 0, 1, 0, 1, 0, 0, 0, 1,\n",
              "       0, 0, 1, 0, 0, 0, 1, 0, 0, 1, 0, 0, 0, 0, 0, 1, 1, 0, 0, 0, 0, 1,\n",
              "       0, 0, 0, 0, 0, 0, 1, 0, 0, 0, 0, 0, 0, 1, 0, 0, 1, 1, 1, 1, 1, 0,\n",
              "       1, 0, 0, 0, 1, 1, 0, 1, 1, 0, 0, 0, 0, 1, 0, 0, 1, 1, 0, 0, 0, 1,\n",
              "       1, 0, 1, 0, 0, 1, 0, 1, 1, 0, 0])"
            ]
          },
          "metadata": {},
          "execution_count": 60
        }
      ]
    },
    {
      "cell_type": "code",
      "source": [
        "t.age"
      ],
      "metadata": {
        "colab": {
          "base_uri": "https://localhost:8080/"
        },
        "id": "BQjrCMp462xz",
        "outputId": "9e523aa0-2fbf-43b9-b5b8-17e946b40041"
      },
      "id": "BQjrCMp462xz",
      "execution_count": null,
      "outputs": [
        {
          "output_type": "execute_result",
          "data": {
            "text/plain": [
              "0      22.0\n",
              "1      38.0\n",
              "2      26.0\n",
              "3      35.0\n",
              "4      35.0\n",
              "       ... \n",
              "886    27.0\n",
              "887    19.0\n",
              "888     NaN\n",
              "889    26.0\n",
              "890    32.0\n",
              "Name: age, Length: 891, dtype: float64"
            ]
          },
          "metadata": {},
          "execution_count": 74
        }
      ]
    },
    {
      "cell_type": "code",
      "source": [],
      "metadata": {
        "id": "JV_Nho_q7VfS"
      },
      "id": "JV_Nho_q7VfS",
      "execution_count": null,
      "outputs": []
    }
  ],
  "metadata": {
    "kernelspec": {
      "display_name": "Python 3 (ipykernel)",
      "language": "python",
      "name": "python3"
    },
    "language_info": {
      "codemirror_mode": {
        "name": "ipython",
        "version": 3
      },
      "file_extension": ".py",
      "mimetype": "text/x-python",
      "name": "python",
      "nbconvert_exporter": "python",
      "pygments_lexer": "ipython3",
      "version": "3.9.7"
    },
    "colab": {
      "provenance": [],
      "include_colab_link": true
    }
  },
  "nbformat": 4,
  "nbformat_minor": 5
}